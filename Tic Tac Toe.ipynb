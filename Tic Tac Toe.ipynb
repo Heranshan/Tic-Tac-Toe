{
 "cells": [
  {
   "cell_type": "markdown",
   "metadata": {},
   "source": [
    "## Tic Tac Toe!"
   ]
  },
  {
   "cell_type": "code",
   "execution_count": 1,
   "metadata": {},
   "outputs": [],
   "source": [
    "from IPython.display import clear_output\n",
    "clear_output()"
   ]
  },
  {
   "cell_type": "markdown",
   "metadata": {},
   "source": [
    "my_dict = { 1: ' ', 2: ' ', 3: ' ', 4: ' ', 5: ' ', 6: ' ', 7: ' ', 8: ' ', 9: ' '}\n",
    "position_list = list(range(1,10))\n",
    "game_round = 1"
   ]
  },
  {
   "cell_type": "code",
   "execution_count": 2,
   "metadata": {},
   "outputs": [],
   "source": [
    "def display_game(my_dict):\n",
    "    \n",
    "\n",
    "    print('Here is your current board')\n",
    "    \n",
    "    #print board as 3 parts\n",
    "    print(' ', '|', ' ', '|', ' ')\n",
    "    print(my_dict[7], '|', my_dict[8], '|', my_dict[9])\n",
    "    print('_', '|', '_', '|', '_')\n",
    "    \n",
    "    print(' ', '|', ' ', '|', ' ')\n",
    "    print(my_dict[4], '|', my_dict[5], '|', my_dict[6])\n",
    "    print('_', '|', '_', '|', '_')\n",
    "    \n",
    "    print(' ', '|', ' ', '|', ' ')\n",
    "    print(my_dict[1], '|', my_dict[2], '|', my_dict[3])\n",
    "    print(' ', '|', ' ', '|', ' ')"
   ]
  },
  {
   "cell_type": "code",
   "execution_count": 3,
   "metadata": {},
   "outputs": [],
   "source": [
    "def position_choice(game_round):\n",
    "    \n",
    "    choice = 'wrong'\n",
    "    acceptable_position = False\n",
    "    \n",
    "    #while choice is not a digit, keep asking for input\n",
    "    while choice.isdigit() == False or acceptable_position == False:\n",
    "        \n",
    "        #taking input from player 1\n",
    "        if game_round % 2 != 0:\n",
    "            choice = input(\"Player 1 pick a poisiton between 1 to 9 to replace: \")\n",
    "        \n",
    "        else:\n",
    "            choice = input(\"Player 2 pick a poisiton between 1 to 9 to replace: \")\n",
    "        \n",
    "        if choice.isdigit() == False:\n",
    "            print(\"Sorry that is not a digit!\")\n",
    "        \n",
    "        if choice.isdigit() == True:\n",
    "            \n",
    "            #to check that position has not been picked before\n",
    "            if int(choice) in position_list:\n",
    "                acceptable_position = True\n",
    "                # to remove choice from list of available positions\n",
    "                position_list.remove(int(choice))\n",
    "            \n",
    "            #check if choice is within range\n",
    "            elif int(choice) > 9 or int(choice) <1:\n",
    "                within_range = False\n",
    "                print(\"Sorry choice is out of range!\")\n",
    "            \n",
    "            #check if choice has been chose before\n",
    "            else:\n",
    "                within_range = False\n",
    "                print(\"Sorry position has been picked before!\")\n",
    "        \n",
    "    return int(choice)"
   ]
  },
  {
   "cell_type": "code",
   "execution_count": 4,
   "metadata": {},
   "outputs": [],
   "source": [
    "def game_start():\n",
    "    \n",
    "    print('Welcome to Tic Tac Toe!')\n",
    "    \n",
    "    p1_marker = 'wrong'\n",
    "    acceptable_input = ['X', 'O']\n",
    "    \n",
    "    # keep running for acceptable input\n",
    "    while p1_marker not in ['X', 'O']:\n",
    "        \n",
    "        p1_marker = input('Player 1: Do you want to be X or O? ')\n",
    "        \n",
    "        # message for invalid input\n",
    "        if p1_marker not in ['X', 'O']:\n",
    "            print('Wrong input')\n",
    "        \n",
    "        # to allocate p2 marker\n",
    "        else:\n",
    "            acceptable_input.remove(p1_marker)\n",
    "            p2_marker = acceptable_input[0]\n",
    "            print('Player 1 will go first.')\n",
    "        \n",
    "    return p1_marker, p2_marker"
   ]
  },
  {
   "cell_type": "code",
   "execution_count": 5,
   "metadata": {},
   "outputs": [],
   "source": [
    "def game_continue(my_dict):\n",
    "    \n",
    "    answer = 'wrong'\n",
    "    \n",
    "    while answer.lower() not in ['yes', 'no']:\n",
    "        \n",
    "        answer = input('Are you ready to play? Enter Yes or No. ')\n",
    "        \n",
    "        if answer.lower() == 'no':\n",
    "            return False"
   ]
  },
  {
   "cell_type": "code",
   "execution_count": 6,
   "metadata": {},
   "outputs": [],
   "source": [
    "def replacement_choice(p1_marker, p2_marker, position, game_round):\n",
    "    \n",
    "    if game_round % 2 != 0:\n",
    "        my_dict[position] = p1_marker\n",
    "        game_round += 1\n",
    "    \n",
    "    else:\n",
    "        my_dict[position] = p2_marker\n",
    "        game_round += 1\n",
    "        \n",
    "    return my_dict, game_round"
   ]
  },
  {
   "cell_type": "code",
   "execution_count": 15,
   "metadata": {},
   "outputs": [],
   "source": [
    "def game_win_check():\n",
    "    \n",
    "    win = False\n",
    "    \n",
    "    # List of all winning conditions\n",
    "    if my_dict[1] == my_dict[2] == my_dict[3] and my_dict[1] != ' ':\n",
    "        print('Yay you won!')\n",
    "        win = True\n",
    "        \n",
    "    if my_dict[4] == my_dict[5] == my_dict[6] and my_dict[4] != ' ':\n",
    "        print('Yay you won!')\n",
    "        win = True\n",
    "        \n",
    "    if my_dict[7] == my_dict[8] == my_dict[9] and my_dict[7] != ' ':\n",
    "        print('Yay you won!')\n",
    "        win = True\n",
    "    \n",
    "    if my_dict[1] == my_dict[4] == my_dict[7] and my_dict[1] != ' ':\n",
    "        print('Yay you won!')\n",
    "        win = True\n",
    "        \n",
    "    if my_dict[2] == my_dict[5] == my_dict[8] and my_dict[2] != ' ':\n",
    "        print('Yay you won!')\n",
    "        win = True\n",
    "        \n",
    "    if my_dict[3] == my_dict[6] == my_dict[9] and my_dict[3] != ' ':\n",
    "        print('Yay you won!')\n",
    "        win = True\n",
    "        \n",
    "    if my_dict[1] == my_dict[5] == my_dict[9] and my_dict[1] != ' ':\n",
    "        print('Yay you won!')\n",
    "        win = True\n",
    "        \n",
    "    if my_dict[3] == my_dict[5] == my_dict[7] and my_dict[3] != ' ':\n",
    "        print('Yay you won!')\n",
    "        win = True\n",
    "    \n",
    "    # Draw condition\n",
    "    if len(position_list) == 0 and win == False:\n",
    "        print('Draw!')\n",
    "        win = True\n",
    "    \n",
    "    return win"
   ]
  },
  {
   "cell_type": "code",
   "execution_count": 8,
   "metadata": {},
   "outputs": [],
   "source": [
    "def gameon_choice():\n",
    "    \n",
    "    choice = 'wrong'\n",
    "    \n",
    "    while choice.lower() not in ['yes','no']:\n",
    "        \n",
    "        choice = input('Would you like to play another round? Yes or No? ')\n",
    "        \n",
    "        if choice.lower() not in ['yes', 'no']:\n",
    "            clear_output()\n",
    "            print('Sorry, invalid input. Please choose Yes or No.')\n",
    "            \n",
    "    if choice.lower() == 'yes':\n",
    "        return True\n",
    "    else:\n",
    "        return False"
   ]
  },
  {
   "cell_type": "code",
   "execution_count": 16,
   "metadata": {},
   "outputs": [
    {
     "name": "stdout",
     "output_type": "stream",
     "text": [
      "End of Game!\n"
     ]
    }
   ],
   "source": [
    "# Variable to keep game playing\n",
    "\n",
    "game_on = True\n",
    "\n",
    "while game_on:\n",
    "    \n",
    "    # Tic Tac Toe Dictionary\n",
    "    my_dict = { 1: ' ', 2: ' ', 3: ' ', 4: ' ', 5: ' ', 6: ' ', 7: ' ', 8: ' ', 9: ' '}\n",
    "\n",
    "    # Varaible to prevent position override\n",
    "    position_list = list(range(1,10))\n",
    "    \n",
    "    # Clear any historical values\n",
    "    clear_output()\n",
    "    p1_marker, p2_marker = game_start()\n",
    "    clear_output()\n",
    "\n",
    "    # Continue to game\n",
    "    if game_continue(my_dict) == False:\n",
    "        break\n",
    "    \n",
    "    else:\n",
    "        display_game(my_dict)\n",
    "    \n",
    "    win = False\n",
    "    game_round = 1\n",
    "    \n",
    "    while win == False:\n",
    "\n",
    "        # Choosing position\n",
    "        position = position_choice(game_round)\n",
    "        clear_output()\n",
    "        \n",
    "        # Rewrite that position\n",
    "        my_dict, game_round = replacement_choice(p1_marker, p2_marker, position, game_round)\n",
    "                \n",
    "        # Display current board\n",
    "        clear_output()\n",
    "        display_game(my_dict)\n",
    "        \n",
    "        # Check for win\n",
    "        win = game_win_check()\n",
    "        \n",
    "    else:\n",
    "        # Check if they want to continue playing\n",
    "        game_on = gameon_choice()\n",
    "        \n",
    "else:\n",
    "    clear_output()\n",
    "    print('End of Game!')"
   ]
  },
  {
   "cell_type": "code",
   "execution_count": null,
   "metadata": {},
   "outputs": [],
   "source": []
  },
  {
   "cell_type": "code",
   "execution_count": null,
   "metadata": {},
   "outputs": [],
   "source": []
  },
  {
   "cell_type": "code",
   "execution_count": null,
   "metadata": {},
   "outputs": [],
   "source": []
  },
  {
   "cell_type": "code",
   "execution_count": null,
   "metadata": {},
   "outputs": [],
   "source": []
  }
 ],
 "metadata": {
  "kernelspec": {
   "display_name": "Python 3",
   "language": "python",
   "name": "python3"
  },
  "language_info": {
   "codemirror_mode": {
    "name": "ipython",
    "version": 3
   },
   "file_extension": ".py",
   "mimetype": "text/x-python",
   "name": "python",
   "nbconvert_exporter": "python",
   "pygments_lexer": "ipython3",
   "version": "3.8.5"
  }
 },
 "nbformat": 4,
 "nbformat_minor": 1
}
